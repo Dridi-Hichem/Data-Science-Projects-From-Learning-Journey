{
 "cells": [
  {
   "cell_type": "markdown",
   "metadata": {},
   "source": [
    "<h1 align=center>Evaluating Models for Spam Filtering</h1>"
   ]
  },
  {
   "cell_type": "markdown",
   "metadata": {},
   "source": [
    "## Description\n",
    "In this notebook, we will look at the application of machine learning to the detection of spam emails.\n",
    "\n",
    "The activity is based around the UCI spambase data set.The original source can be found [here](https://archive.ics.uci.edu/ml/datasets/spambase).\n",
    "\n",
    "The data consists of the following input columns:\n",
    "\n",
    "* **type word_freq_WORD**: 48 attributes which are the percentage of words in the e-mail that match WORD.\n",
    "\n",
    "* **char_freq_CHAR**: 6 attributes which are the percentage of characters in the e-mail that match CHAR.\n",
    "\n",
    "* **capital_run_length_average**: the average length of uninterrupted sequences of capital letters.\n",
    "\n",
    "* **capital_run_length_longest**: the length of longest uninterrupted sequence of capital letters.\n",
    "\n",
    "* **capital_run_length_total**: the total number of capital letters in the e-mail.\n",
    "\n",
    "The target feature is: \n",
    "\n",
    "* **spam**: denotes whether the e-mail was considered spam (1) or not (0).\n",
    "\n",
    "## Objective\n",
    "Build a number of classification models and evaluate them.\n",
    "\n",
    "## Import the libraries we need"
   ]
  },
  {
   "cell_type": "code",
   "execution_count": 1,
   "metadata": {},
   "outputs": [],
   "source": [
    "# Core libraries\n",
    "import pandas as pd\n",
    "\n",
    "# Sklearn processing\n",
    "from sklearn.preprocessing import MinMaxScaler\n",
    "from sklearn.model_selection import train_test_split\n",
    "\n",
    "# Sklearn classification algorithms\n",
    "from sklearn.tree import DecisionTreeClassifier\n",
    "from sklearn.linear_model import LogisticRegression\n",
    "from sklearn.naive_bayes import GaussianNB\n",
    "from sklearn.neighbors import KNeighborsClassifier\n",
    "\n",
    "# Sklearn classification model evaluation functions\n",
    "from sklearn.metrics import classification_report\n",
    "from sklearn.metrics import accuracy_score\n",
    "from sklearn.metrics import confusion_matrix\n",
    "from sklearn.metrics import precision_score\n",
    "from sklearn.metrics import roc_curve, auc, roc_auc_score\n",
    "from sklearn.metrics import precision_recall_fscore_support\n",
    "\n",
    "# Matplotlib for charting\n",
    "import matplotlib.pyplot as plt"
   ]
  },
  {
   "cell_type": "markdown",
   "metadata": {},
   "source": [
    "Define a useful function."
   ]
  },
  {
   "cell_type": "code",
   "execution_count": 2,
   "metadata": {},
   "outputs": [],
   "source": [
    "# Define a function to plot the ROC/AUC\n",
    "def plotRocAuc(model, X, y):\n",
    "    \n",
    "    probabilities = model.predict_proba(X)\n",
    "    probabilities = probabilities[:, 1]  # keep probabilities for first class only\n",
    "        \n",
    "    # Compute the ROC curve\n",
    "    fpr, tpr, thresholds = roc_curve(y, probabilities)    \n",
    "    auc = roc_auc_score(y, probabilities)\n",
    "    \n",
    "    # Plot the \"dumb model\" line\n",
    "    plt.plot([0, 1], [0, 1], linestyle='--')\n",
    "    \n",
    "    # Plot the model line\n",
    "    plt.plot(fpr, tpr, marker='.')\n",
    "    plt.text(0.75, 0.25, \"AUC: \" + str(round(auc,2)))\n",
    "    \n",
    "    # show the plot\n",
    "    plt.show()\n",
    "    \n",
    "    return auc"
   ]
  },
  {
   "cell_type": "markdown",
   "metadata": {},
   "source": [
    "## Load and understand the data"
   ]
  },
  {
   "cell_type": "code",
   "execution_count": 3,
   "metadata": {},
   "outputs": [
    {
     "data": {
      "text/html": [
       "<div>\n",
       "<style scoped>\n",
       "    .dataframe tbody tr th:only-of-type {\n",
       "        vertical-align: middle;\n",
       "    }\n",
       "\n",
       "    .dataframe tbody tr th {\n",
       "        vertical-align: top;\n",
       "    }\n",
       "\n",
       "    .dataframe thead th {\n",
       "        text-align: right;\n",
       "    }\n",
       "</style>\n",
       "<table border=\"1\" class=\"dataframe\">\n",
       "  <thead>\n",
       "    <tr style=\"text-align: right;\">\n",
       "      <th></th>\n",
       "      <th>word_freq_make</th>\n",
       "      <th>word_freq_address</th>\n",
       "      <th>word_freq_all</th>\n",
       "      <th>word_freq_3d</th>\n",
       "      <th>word_freq_our</th>\n",
       "      <th>word_freq_over</th>\n",
       "      <th>word_freq_remove</th>\n",
       "      <th>word_freq_internet</th>\n",
       "      <th>word_freq_order</th>\n",
       "      <th>word_freq_mail</th>\n",
       "      <th>...</th>\n",
       "      <th>char_freq_;</th>\n",
       "      <th>char_freq_(</th>\n",
       "      <th>char_freq_[</th>\n",
       "      <th>char_freq_!</th>\n",
       "      <th>char_freq_$</th>\n",
       "      <th>char_freq_#</th>\n",
       "      <th>capital_run_length_average</th>\n",
       "      <th>capital_run_length_longest</th>\n",
       "      <th>capital_run_length_total</th>\n",
       "      <th>spam</th>\n",
       "    </tr>\n",
       "  </thead>\n",
       "  <tbody>\n",
       "    <tr>\n",
       "      <th>0</th>\n",
       "      <td>0.00</td>\n",
       "      <td>0.64</td>\n",
       "      <td>0.64</td>\n",
       "      <td>0.0</td>\n",
       "      <td>0.32</td>\n",
       "      <td>0.00</td>\n",
       "      <td>0.00</td>\n",
       "      <td>0.00</td>\n",
       "      <td>0.00</td>\n",
       "      <td>0.00</td>\n",
       "      <td>...</td>\n",
       "      <td>0.00</td>\n",
       "      <td>0.000</td>\n",
       "      <td>0.0</td>\n",
       "      <td>0.778</td>\n",
       "      <td>0.000</td>\n",
       "      <td>0.000</td>\n",
       "      <td>3.756</td>\n",
       "      <td>61</td>\n",
       "      <td>278</td>\n",
       "      <td>1</td>\n",
       "    </tr>\n",
       "    <tr>\n",
       "      <th>1</th>\n",
       "      <td>0.21</td>\n",
       "      <td>0.28</td>\n",
       "      <td>0.50</td>\n",
       "      <td>0.0</td>\n",
       "      <td>0.14</td>\n",
       "      <td>0.28</td>\n",
       "      <td>0.21</td>\n",
       "      <td>0.07</td>\n",
       "      <td>0.00</td>\n",
       "      <td>0.94</td>\n",
       "      <td>...</td>\n",
       "      <td>0.00</td>\n",
       "      <td>0.132</td>\n",
       "      <td>0.0</td>\n",
       "      <td>0.372</td>\n",
       "      <td>0.180</td>\n",
       "      <td>0.048</td>\n",
       "      <td>5.114</td>\n",
       "      <td>101</td>\n",
       "      <td>1028</td>\n",
       "      <td>1</td>\n",
       "    </tr>\n",
       "    <tr>\n",
       "      <th>2</th>\n",
       "      <td>0.06</td>\n",
       "      <td>0.00</td>\n",
       "      <td>0.71</td>\n",
       "      <td>0.0</td>\n",
       "      <td>1.23</td>\n",
       "      <td>0.19</td>\n",
       "      <td>0.19</td>\n",
       "      <td>0.12</td>\n",
       "      <td>0.64</td>\n",
       "      <td>0.25</td>\n",
       "      <td>...</td>\n",
       "      <td>0.01</td>\n",
       "      <td>0.143</td>\n",
       "      <td>0.0</td>\n",
       "      <td>0.276</td>\n",
       "      <td>0.184</td>\n",
       "      <td>0.010</td>\n",
       "      <td>9.821</td>\n",
       "      <td>485</td>\n",
       "      <td>2259</td>\n",
       "      <td>1</td>\n",
       "    </tr>\n",
       "    <tr>\n",
       "      <th>3</th>\n",
       "      <td>0.00</td>\n",
       "      <td>0.00</td>\n",
       "      <td>0.00</td>\n",
       "      <td>0.0</td>\n",
       "      <td>0.63</td>\n",
       "      <td>0.00</td>\n",
       "      <td>0.31</td>\n",
       "      <td>0.63</td>\n",
       "      <td>0.31</td>\n",
       "      <td>0.63</td>\n",
       "      <td>...</td>\n",
       "      <td>0.00</td>\n",
       "      <td>0.137</td>\n",
       "      <td>0.0</td>\n",
       "      <td>0.137</td>\n",
       "      <td>0.000</td>\n",
       "      <td>0.000</td>\n",
       "      <td>3.537</td>\n",
       "      <td>40</td>\n",
       "      <td>191</td>\n",
       "      <td>1</td>\n",
       "    </tr>\n",
       "    <tr>\n",
       "      <th>4</th>\n",
       "      <td>0.00</td>\n",
       "      <td>0.00</td>\n",
       "      <td>0.00</td>\n",
       "      <td>0.0</td>\n",
       "      <td>0.63</td>\n",
       "      <td>0.00</td>\n",
       "      <td>0.31</td>\n",
       "      <td>0.63</td>\n",
       "      <td>0.31</td>\n",
       "      <td>0.63</td>\n",
       "      <td>...</td>\n",
       "      <td>0.00</td>\n",
       "      <td>0.135</td>\n",
       "      <td>0.0</td>\n",
       "      <td>0.135</td>\n",
       "      <td>0.000</td>\n",
       "      <td>0.000</td>\n",
       "      <td>3.537</td>\n",
       "      <td>40</td>\n",
       "      <td>191</td>\n",
       "      <td>1</td>\n",
       "    </tr>\n",
       "  </tbody>\n",
       "</table>\n",
       "<p>5 rows × 58 columns</p>\n",
       "</div>"
      ],
      "text/plain": [
       "   word_freq_make  word_freq_address  word_freq_all  word_freq_3d  \\\n",
       "0            0.00               0.64           0.64           0.0   \n",
       "1            0.21               0.28           0.50           0.0   \n",
       "2            0.06               0.00           0.71           0.0   \n",
       "3            0.00               0.00           0.00           0.0   \n",
       "4            0.00               0.00           0.00           0.0   \n",
       "\n",
       "   word_freq_our  word_freq_over  word_freq_remove  word_freq_internet  \\\n",
       "0           0.32            0.00              0.00                0.00   \n",
       "1           0.14            0.28              0.21                0.07   \n",
       "2           1.23            0.19              0.19                0.12   \n",
       "3           0.63            0.00              0.31                0.63   \n",
       "4           0.63            0.00              0.31                0.63   \n",
       "\n",
       "   word_freq_order  word_freq_mail  ...  char_freq_;  char_freq_(  \\\n",
       "0             0.00            0.00  ...         0.00        0.000   \n",
       "1             0.00            0.94  ...         0.00        0.132   \n",
       "2             0.64            0.25  ...         0.01        0.143   \n",
       "3             0.31            0.63  ...         0.00        0.137   \n",
       "4             0.31            0.63  ...         0.00        0.135   \n",
       "\n",
       "   char_freq_[  char_freq_!  char_freq_$  char_freq_#  \\\n",
       "0          0.0        0.778        0.000        0.000   \n",
       "1          0.0        0.372        0.180        0.048   \n",
       "2          0.0        0.276        0.184        0.010   \n",
       "3          0.0        0.137        0.000        0.000   \n",
       "4          0.0        0.135        0.000        0.000   \n",
       "\n",
       "   capital_run_length_average  capital_run_length_longest  \\\n",
       "0                       3.756                          61   \n",
       "1                       5.114                         101   \n",
       "2                       9.821                         485   \n",
       "3                       3.537                          40   \n",
       "4                       3.537                          40   \n",
       "\n",
       "   capital_run_length_total  spam  \n",
       "0                       278     1  \n",
       "1                      1028     1  \n",
       "2                      2259     1  \n",
       "3                       191     1  \n",
       "4                       191     1  \n",
       "\n",
       "[5 rows x 58 columns]"
      ]
     },
     "execution_count": 3,
     "metadata": {},
     "output_type": "execute_result"
    }
   ],
   "source": [
    "dataset = pd.read_csv(\"./Datasets/spam.csv\")\n",
    "dataset.head()"
   ]
  },
  {
   "cell_type": "code",
   "execution_count": 4,
   "metadata": {},
   "outputs": [
    {
     "data": {
      "text/plain": [
       "(4601, 58)"
      ]
     },
     "execution_count": 4,
     "metadata": {},
     "output_type": "execute_result"
    }
   ],
   "source": [
    "# Size of data set\n",
    "dataset.shape"
   ]
  },
  {
   "cell_type": "code",
   "execution_count": 5,
   "metadata": {},
   "outputs": [
    {
     "name": "stdout",
     "output_type": "stream",
     "text": [
      "No nulls found\n"
     ]
    }
   ],
   "source": [
    "# Check for nulls\n",
    "nulls = dataset.isnull().mean()\n",
    "if len(nulls[nulls!=0]) == 0 : print('No nulls found')\n",
    "else : print(nulls[nulls!=0])"
   ]
  },
  {
   "cell_type": "markdown",
   "metadata": {},
   "source": [
    "## Check if we have balanced classes"
   ]
  },
  {
   "cell_type": "code",
   "execution_count": 6,
   "metadata": {
    "scrolled": true
   },
   "outputs": [
    {
     "data": {
      "text/plain": [
       "0    2788\n",
       "1    1813\n",
       "Name: spam, dtype: int64"
      ]
     },
     "execution_count": 6,
     "metadata": {},
     "output_type": "execute_result"
    }
   ],
   "source": [
    "# Class distribution - to check if we have balanced classes\n",
    "dataset.spam.value_counts()"
   ]
  },
  {
   "cell_type": "markdown",
   "metadata": {},
   "source": [
    "## Split into X and y"
   ]
  },
  {
   "cell_type": "code",
   "execution_count": 7,
   "metadata": {},
   "outputs": [],
   "source": [
    "# Define the X (input) and y (target) features\n",
    "X = dataset.drop(\"spam\", axis=1)\n",
    "y = dataset.spam"
   ]
  },
  {
   "cell_type": "markdown",
   "metadata": {},
   "source": [
    "## Rescale"
   ]
  },
  {
   "cell_type": "code",
   "execution_count": 8,
   "metadata": {},
   "outputs": [],
   "source": [
    "# Rescale the input features\n",
    "scaler = MinMaxScaler(feature_range=(0,1))\n",
    "X = scaler.fit_transform(X)"
   ]
  },
  {
   "cell_type": "markdown",
   "metadata": {},
   "source": [
    "## Train test split"
   ]
  },
  {
   "cell_type": "code",
   "execution_count": 9,
   "metadata": {},
   "outputs": [],
   "source": [
    "# Split into train (2/3) and test (1/3) sets\n",
    "test_size = 0.33\n",
    "seed = 7\n",
    "X_train, X_test, y_train, y_test = train_test_split(X, y, test_size=test_size, random_state=seed)"
   ]
  },
  {
   "cell_type": "markdown",
   "metadata": {},
   "source": [
    "### Build and check models"
   ]
  },
  {
   "cell_type": "code",
   "execution_count": 10,
   "metadata": {
    "scrolled": false
   },
   "outputs": [
    {
     "name": "stdout",
     "output_type": "stream",
     "text": [
      "****************************************\n",
      "LogisticRegression\n",
      "\n",
      "Confusion Matrix :\n",
      "[[1813   79]\n",
      " [ 472  718]]\n",
      "\n",
      "Accuracy : 0.82122\n",
      "\t\n",
      "Classification Report :\n",
      "              precision    recall  f1-score   support\n",
      "\n",
      "           0       0.79      0.96      0.87      1892\n",
      "           1       0.90      0.60      0.72      1190\n",
      "\n",
      "    accuracy                           0.82      3082\n",
      "   macro avg       0.85      0.78      0.80      3082\n",
      "weighted avg       0.83      0.82      0.81      3082\n",
      "\n",
      "\n",
      "ROC / AUC :\n"
     ]
    },
    {
     "data": {
      "image/png": "[encoded data removed]",
      "text/plain": [
       "<Figure size 432x288 with 1 Axes>"
      ]
     },
     "metadata": {
      "needs_background": "light"
     },
     "output_type": "display_data"
    },
    {
     "name": "stdout",
     "output_type": "stream",
     "text": [
      "****************************************\n",
      "DecisionTreeClassifier\n",
      "\n",
      "Confusion Matrix :\n",
      "[[1892    0]\n",
      " [   1 1189]]\n",
      "\n",
      "Accuracy : 0.99968\n",
      "\t\n",
      "Classification Report :\n",
      "              precision    recall  f1-score   support\n",
      "\n",
      "           0       1.00      1.00      1.00      1892\n",
      "           1       1.00      1.00      1.00      1190\n",
      "\n",
      "    accuracy                           1.00      3082\n",
      "   macro avg       1.00      1.00      1.00      3082\n",
      "weighted avg       1.00      1.00      1.00      3082\n",
      "\n",
      "\n",
      "ROC / AUC :\n"
     ]
    },
    {
     "data": {
      "image/png": "[encoded data removed]",
      "text/plain": [
       "<Figure size 432x288 with 1 Axes>"
      ]
     },
     "metadata": {
      "needs_background": "light"
     },
     "output_type": "display_data"
    },
    {
     "name": "stdout",
     "output_type": "stream",
     "text": [
      "****************************************\n",
      "GaussianNB\n",
      "\n",
      "Confusion Matrix :\n",
      "[[1396  496]\n",
      " [  56 1134]]\n",
      "\n",
      "Accuracy : 0.82090\n",
      "\t\n",
      "Classification Report :\n",
      "              precision    recall  f1-score   support\n",
      "\n",
      "           0       0.96      0.74      0.83      1892\n",
      "           1       0.70      0.95      0.80      1190\n",
      "\n",
      "    accuracy                           0.82      3082\n",
      "   macro avg       0.83      0.85      0.82      3082\n",
      "weighted avg       0.86      0.82      0.82      3082\n",
      "\n",
      "\n",
      "ROC / AUC :\n"
     ]
    },
    {
     "data": {
      "image/png": "[encoded data removed]",
      "text/plain": [
       "<Figure size 432x288 with 1 Axes>"
      ]
     },
     "metadata": {
      "needs_background": "light"
     },
     "output_type": "display_data"
    },
    {
     "name": "stdout",
     "output_type": "stream",
     "text": [
      "****************************************\n",
      "KNeighborsClassifier\n",
      "\n",
      "Confusion Matrix :\n",
      "[[1892    0]\n",
      " [   1 1189]]\n",
      "\n",
      "Accuracy : 0.99968\n",
      "\t\n",
      "Classification Report :\n",
      "              precision    recall  f1-score   support\n",
      "\n",
      "           0       1.00      1.00      1.00      1892\n",
      "           1       1.00      1.00      1.00      1190\n",
      "\n",
      "    accuracy                           1.00      3082\n",
      "   macro avg       1.00      1.00      1.00      3082\n",
      "weighted avg       1.00      1.00      1.00      3082\n",
      "\n",
      "\n",
      "ROC / AUC :\n"
     ]
    },
    {
     "data": {
      "image/png": "[encoded data removed]",
      "text/plain": [
       "<Figure size 432x288 with 1 Axes>"
      ]
     },
     "metadata": {
      "needs_background": "light"
     },
     "output_type": "display_data"
    }
   ],
   "source": [
    "# Build and fit a few models\n",
    "\n",
    "models = [LogisticRegression(C=0.1, solver='liblinear'),\n",
    "          DecisionTreeClassifier(criterion='gini'),\n",
    "         GaussianNB(),\n",
    "         KNeighborsClassifier(n_neighbors=5, weights='distance')]\n",
    "\n",
    "for model in models:\n",
    "    print('**'*20)\n",
    "    print(type(model).__name__)\n",
    "    \n",
    "    model.fit(X_train, y_train)\n",
    "    \n",
    "    # Predict the training data\n",
    "    predictions = model.predict(X_train) \n",
    "\n",
    "    # Plot the confusion matrix\n",
    "    print('\\nConfusion Matrix :')\n",
    "    print(confusion_matrix(y_train, predictions))\n",
    "\n",
    "    # Accuracy score\n",
    "    print('\\nAccuracy : %.5f' % accuracy_score(y_train, predictions))\n",
    "\n",
    "    # Classification report\n",
    "    print('\\t\\nClassification Report :')\n",
    "    print(classification_report(y_train, predictions))\n",
    "\n",
    "    # ROC / AUC\n",
    "    print('\\nROC / AUC :')\n",
    "    plotRocAuc(model, X_train, y_train)\n",
    "    "
   ]
  },
  {
   "cell_type": "markdown",
   "metadata": {},
   "source": [
    "## Evaluate models"
   ]
  },
  {
   "cell_type": "code",
   "execution_count": 11,
   "metadata": {
    "scrolled": false
   },
   "outputs": [
    {
     "name": "stdout",
     "output_type": "stream",
     "text": [
      "****************************************\n",
      "LogisticRegression\n",
      "\n",
      "Confusion Matrix :\n",
      "[[853  43]\n",
      " [271 352]]\n",
      "\n",
      "Accuracy : 0.79329\n",
      "\t\n",
      "Classification Report :\n",
      "              precision    recall  f1-score   support\n",
      "\n",
      "           0       0.76      0.95      0.84       896\n",
      "           1       0.89      0.57      0.69       623\n",
      "\n",
      "    accuracy                           0.79      1519\n",
      "   macro avg       0.83      0.76      0.77      1519\n",
      "weighted avg       0.81      0.79      0.78      1519\n",
      "\n",
      "\n",
      "ROC / AUC :\n"
     ]
    },
    {
     "data": {
      "image/png": "[encoded data removed]",
      "text/plain": [
       "<Figure size 432x288 with 1 Axes>"
      ]
     },
     "metadata": {
      "needs_background": "light"
     },
     "output_type": "display_data"
    },
    {
     "name": "stdout",
     "output_type": "stream",
     "text": [
      "****************************************\n",
      "DecisionTreeClassifier\n",
      "\n",
      "Confusion Matrix :\n",
      "[[831  65]\n",
      " [ 59 564]]\n",
      "\n",
      "Accuracy : 0.91837\n",
      "\t\n",
      "Classification Report :\n",
      "              precision    recall  f1-score   support\n",
      "\n",
      "           0       0.93      0.93      0.93       896\n",
      "           1       0.90      0.91      0.90       623\n",
      "\n",
      "    accuracy                           0.92      1519\n",
      "   macro avg       0.92      0.92      0.92      1519\n",
      "weighted avg       0.92      0.92      0.92      1519\n",
      "\n",
      "\n",
      "ROC / AUC :\n"
     ]
    },
    {
     "data": {
      "image/png": "[encoded data removed]",
      "text/plain": [
       "<Figure size 432x288 with 1 Axes>"
      ]
     },
     "metadata": {
      "needs_background": "light"
     },
     "output_type": "display_data"
    },
    {
     "name": "stdout",
     "output_type": "stream",
     "text": [
      "****************************************\n",
      "GaussianNB\n",
      "\n",
      "Confusion Matrix :\n",
      "[[643 253]\n",
      " [ 23 600]]\n",
      "\n",
      "Accuracy : 0.81830\n",
      "\t\n",
      "Classification Report :\n",
      "              precision    recall  f1-score   support\n",
      "\n",
      "           0       0.97      0.72      0.82       896\n",
      "           1       0.70      0.96      0.81       623\n",
      "\n",
      "    accuracy                           0.82      1519\n",
      "   macro avg       0.83      0.84      0.82      1519\n",
      "weighted avg       0.86      0.82      0.82      1519\n",
      "\n",
      "\n",
      "ROC / AUC :\n"
     ]
    },
    {
     "data": {
      "image/png": "[encoded data removed]",
      "text/plain": [
       "<Figure size 432x288 with 1 Axes>"
      ]
     },
     "metadata": {
      "needs_background": "light"
     },
     "output_type": "display_data"
    },
    {
     "name": "stdout",
     "output_type": "stream",
     "text": [
      "****************************************\n",
      "KNeighborsClassifier\n",
      "\n",
      "Confusion Matrix :\n",
      "[[830  66]\n",
      " [ 82 541]]\n",
      "\n",
      "Accuracy : 0.90257\n",
      "\t\n",
      "Classification Report :\n",
      "              precision    recall  f1-score   support\n",
      "\n",
      "           0       0.91      0.93      0.92       896\n",
      "           1       0.89      0.87      0.88       623\n",
      "\n",
      "    accuracy                           0.90      1519\n",
      "   macro avg       0.90      0.90      0.90      1519\n",
      "weighted avg       0.90      0.90      0.90      1519\n",
      "\n",
      "\n",
      "ROC / AUC :\n"
     ]
    },
    {
     "data": {
      "image/png": "[encoded data removed]",
      "text/plain": [
       "<Figure size 432x288 with 1 Axes>"
      ]
     },
     "metadata": {
      "needs_background": "light"
     },
     "output_type": "display_data"
    }
   ],
   "source": [
    "# Evaluate the models\n",
    "\n",
    "for model in models:\n",
    "    print('**'*20)\n",
    "    print(type(model).__name__)\n",
    "        \n",
    "    # Predict the testing data\n",
    "    predictions = model.predict(X_test) \n",
    "\n",
    "    # Plot the confusion matrix\n",
    "    print('\\nConfusion Matrix :')\n",
    "    print(confusion_matrix(y_test, predictions))\n",
    "\n",
    "    # Accuracy score\n",
    "    print('\\nAccuracy : %.5f' % accuracy_score(y_test, predictions))\n",
    "\n",
    "    # Classification report\n",
    "    print('\\t\\nClassification Report :')\n",
    "    print(classification_report(y_test, predictions))\n",
    "\n",
    "    # ROC / AUC\n",
    "    print('\\nROC / AUC :')\n",
    "    plotRocAuc(model, X_test, y_test)\n",
    "    "
   ]
  },
  {
   "cell_type": "markdown",
   "metadata": {},
   "source": [
    "## Summary\n",
    "Let's resume the above results for testing set and choose the best model :"
   ]
  },
  {
   "cell_type": "code",
   "execution_count": 12,
   "metadata": {},
   "outputs": [
    {
     "data": {
      "text/html": [
       "<style  type=\"text/css\" >\n",
       "</style><table id=\"T_9320c39a_6644_11eb_a7fc_acd1b8512024\" ><thead>    <tr>        <th class=\"blank level0\" ></th>        <th class=\"col_heading level0 col0\" >accuracy</th>        <th class=\"col_heading level0 col1\" >precision</th>        <th class=\"col_heading level0 col2\" >recall</th>        <th class=\"col_heading level0 col3\" >f1_score</th>        <th class=\"col_heading level0 col4\" >auc</th>    </tr>    <tr>        <th class=\"index_name level0\" >model</th>        <th class=\"blank\" ></th>        <th class=\"blank\" ></th>        <th class=\"blank\" ></th>        <th class=\"blank\" ></th>        <th class=\"blank\" ></th>    </tr></thead><tbody>\n",
       "                <tr>\n",
       "                        <th id=\"T_9320c39a_6644_11eb_a7fc_acd1b8512024level0_row0\" class=\"row_heading level0 row0\" >LogisticRegression</th>\n",
       "                        <td id=\"T_9320c39a_6644_11eb_a7fc_acd1b8512024row0_col0\" class=\"data row0 col0\" >0.793</td>\n",
       "                        <td id=\"T_9320c39a_6644_11eb_a7fc_acd1b8512024row0_col1\" class=\"data row0 col1\" >0.891</td>\n",
       "                        <td id=\"T_9320c39a_6644_11eb_a7fc_acd1b8512024row0_col2\" class=\"data row0 col2\" >0.565</td>\n",
       "                        <td id=\"T_9320c39a_6644_11eb_a7fc_acd1b8512024row0_col3\" class=\"data row0 col3\" >0.692</td>\n",
       "                        <td id=\"T_9320c39a_6644_11eb_a7fc_acd1b8512024row0_col4\" class=\"data row0 col4\" >0.921</td>\n",
       "            </tr>\n",
       "            <tr>\n",
       "                        <th id=\"T_9320c39a_6644_11eb_a7fc_acd1b8512024level0_row1\" class=\"row_heading level0 row1\" >DecisionTreeClassifier</th>\n",
       "                        <td id=\"T_9320c39a_6644_11eb_a7fc_acd1b8512024row1_col0\" class=\"data row1 col0\" >0.918</td>\n",
       "                        <td id=\"T_9320c39a_6644_11eb_a7fc_acd1b8512024row1_col1\" class=\"data row1 col1\" >0.897</td>\n",
       "                        <td id=\"T_9320c39a_6644_11eb_a7fc_acd1b8512024row1_col2\" class=\"data row1 col2\" >0.905</td>\n",
       "                        <td id=\"T_9320c39a_6644_11eb_a7fc_acd1b8512024row1_col3\" class=\"data row1 col3\" >0.901</td>\n",
       "                        <td id=\"T_9320c39a_6644_11eb_a7fc_acd1b8512024row1_col4\" class=\"data row1 col4\" >0.916</td>\n",
       "            </tr>\n",
       "            <tr>\n",
       "                        <th id=\"T_9320c39a_6644_11eb_a7fc_acd1b8512024level0_row2\" class=\"row_heading level0 row2\" >GaussianNB</th>\n",
       "                        <td id=\"T_9320c39a_6644_11eb_a7fc_acd1b8512024row2_col0\" class=\"data row2 col0\" >0.818</td>\n",
       "                        <td id=\"T_9320c39a_6644_11eb_a7fc_acd1b8512024row2_col1\" class=\"data row2 col1\" >0.703</td>\n",
       "                        <td id=\"T_9320c39a_6644_11eb_a7fc_acd1b8512024row2_col2\" class=\"data row2 col2\" >0.963</td>\n",
       "                        <td id=\"T_9320c39a_6644_11eb_a7fc_acd1b8512024row2_col3\" class=\"data row2 col3\" >0.813</td>\n",
       "                        <td id=\"T_9320c39a_6644_11eb_a7fc_acd1b8512024row2_col4\" class=\"data row2 col4\" >0.921</td>\n",
       "            </tr>\n",
       "            <tr>\n",
       "                        <th id=\"T_9320c39a_6644_11eb_a7fc_acd1b8512024level0_row3\" class=\"row_heading level0 row3\" >KNeighborsClassifier</th>\n",
       "                        <td id=\"T_9320c39a_6644_11eb_a7fc_acd1b8512024row3_col0\" class=\"data row3 col0\" >0.903</td>\n",
       "                        <td id=\"T_9320c39a_6644_11eb_a7fc_acd1b8512024row3_col1\" class=\"data row3 col1\" >0.891</td>\n",
       "                        <td id=\"T_9320c39a_6644_11eb_a7fc_acd1b8512024row3_col2\" class=\"data row3 col2\" >0.868</td>\n",
       "                        <td id=\"T_9320c39a_6644_11eb_a7fc_acd1b8512024row3_col3\" class=\"data row3 col3\" >0.88</td>\n",
       "                        <td id=\"T_9320c39a_6644_11eb_a7fc_acd1b8512024row3_col4\" class=\"data row3 col4\" >0.951</td>\n",
       "            </tr>\n",
       "    </tbody></table>"
      ],
      "text/plain": [
       "<pandas.io.formats.style.Styler at 0xff9f889a08>"
      ]
     },
     "execution_count": 12,
     "metadata": {},
     "output_type": "execute_result"
    }
   ],
   "source": [
    "results = [] # store the results\n",
    "\n",
    "for model in models:\n",
    "    model_results = {} # store the model's results\n",
    "    \n",
    "    # predict the testing data\n",
    "    predictions = model.predict(X_test)\n",
    "    # predict the probabilities for the class spam(1)\n",
    "    probabilities = model.predict_proba(X_test)[:, 1]\n",
    "    # compute the results\n",
    "    # model name\n",
    "    model_results['model'] = type(model).__name__\n",
    "    # accuracy score\n",
    "    model_results['accuracy'] = accuracy_score(y_test, predictions)\n",
    "    # precision , recall and F1-score for class spam\n",
    "    precision, recall, f1_score, support = precision_recall_fscore_support(y_test, predictions)\n",
    "    model_results['precision'] = precision[1]\n",
    "    model_results['recall'] = recall[1]\n",
    "    model_results['f1_score'] = f1_score[1]\n",
    "    # AUC\n",
    "    model_results['auc'] = roc_auc_score(y_test, probabilities)\n",
    "    # append the results to the list\n",
    "    results.append(model_results)\n",
    "    \n",
    "# show the results as a dataframe\n",
    "results = pd.DataFrame(results)\n",
    "results.set_index('model').style.format(\"{:.3}\")"
   ]
  },
  {
   "cell_type": "markdown",
   "metadata": {},
   "source": [
    "After evaluation of the models using the test data, we found that :\n",
    "* In terms of **Accuracy Score**, the **Decision Tree** is the best model (acc_score = 0.917). But this metric isn't reliable to mesure the performance of our models because the data consists of unbalanced target classes (spam : 1813 | not a spam : 2718). We should look to other measures.\n",
    "* In general cases, we try to optimize the **F1-score** metric, but in our case, it ould be better if we optimize the **precision of class spam**, because this will minimize the number of genuine emails that will be filtered out as spam. With this strategy in mind, and taking in consideration the precision/recall tradeoff, **Decision Tree** and **K-Neighbors** classifiers are the best ones.\n",
    "* The final metric is the **AUC** ; it gives us a numerical measure of the model separation ability. In this case, **K-Neighbors** does the best job (auc = 0.951)."
   ]
  },
  {
   "cell_type": "code",
   "execution_count": null,
   "metadata": {},
   "outputs": [],
   "source": []
  }
 ],
 "metadata": {
  "kernelspec": {
   "display_name": "Python 3",
   "language": "python",
   "name": "python3"
  },
  "language_info": {
   "codemirror_mode": {
    "name": "ipython",
    "version": 3
   },
   "file_extension": ".py",
   "mimetype": "text/x-python",
   "name": "python",
   "nbconvert_exporter": "python",
   "pygments_lexer": "ipython3",
   "version": "3.7.6"
  }
 },
 "nbformat": 4,
 "nbformat_minor": 2
}
